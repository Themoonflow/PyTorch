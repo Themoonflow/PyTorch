{
 "cells": [
  {
   "cell_type": "code",
   "execution_count": 2,
   "id": "56d8b815",
   "metadata": {},
   "outputs": [],
   "source": [
    "import torch\n",
    "import numpy as np"
   ]
  },
  {
   "cell_type": "markdown",
   "id": "428dc3b2",
   "metadata": {},
   "source": [
    "## 1. Create Tensor"
   ]
  },
  {
   "cell_type": "code",
   "execution_count": 3,
   "id": "9add9b5f",
   "metadata": {},
   "outputs": [],
   "source": [
    "# Create Tensor from List\n",
    "data=[[1,2,], [3,4]]\n",
    "x_data = torch.tensor(data)"
   ]
  },
  {
   "cell_type": "code",
   "execution_count": 4,
   "id": "149843b8",
   "metadata": {},
   "outputs": [
    {
     "data": {
      "text/plain": [
       "tensor([[1, 2],\n",
       "        [3, 4]])"
      ]
     },
     "execution_count": 4,
     "metadata": {},
     "output_type": "execute_result"
    }
   ],
   "source": [
    "x_data"
   ]
  },
  {
   "cell_type": "code",
   "execution_count": 5,
   "id": "227a75c1",
   "metadata": {},
   "outputs": [
    {
     "data": {
      "text/plain": [
       "[[1, 2], [3, 4]]"
      ]
     },
     "execution_count": 5,
     "metadata": {},
     "output_type": "execute_result"
    }
   ],
   "source": [
    "data"
   ]
  },
  {
   "cell_type": "code",
   "execution_count": 6,
   "id": "b09e210e",
   "metadata": {},
   "outputs": [],
   "source": [
    "np_array = np.array(data)"
   ]
  },
  {
   "cell_type": "code",
   "execution_count": 7,
   "id": "f45b1d10",
   "metadata": {},
   "outputs": [
    {
     "data": {
      "text/plain": [
       "array([[1, 2],\n",
       "       [3, 4]])"
      ]
     },
     "execution_count": 7,
     "metadata": {},
     "output_type": "execute_result"
    }
   ],
   "source": [
    "np_array"
   ]
  },
  {
   "cell_type": "code",
   "execution_count": 8,
   "id": "47c760e0",
   "metadata": {},
   "outputs": [],
   "source": [
    "# Create Tensor from numpy array\n",
    "x_np = torch.from_numpy(np_array)"
   ]
  },
  {
   "cell_type": "code",
   "execution_count": 9,
   "id": "dc782b82",
   "metadata": {},
   "outputs": [
    {
     "data": {
      "text/plain": [
       "tensor([[1, 2],\n",
       "        [3, 4]])"
      ]
     },
     "execution_count": 9,
     "metadata": {},
     "output_type": "execute_result"
    }
   ],
   "source": [
    "x_np"
   ]
  },
  {
   "cell_type": "code",
   "execution_count": 13,
   "id": "84a3ad05",
   "metadata": {},
   "outputs": [],
   "source": [
    "# Create Tensor from other tensor\n",
    "x_ones = torch.ones_like(x_data)"
   ]
  },
  {
   "cell_type": "code",
   "execution_count": 21,
   "id": "3ee11495",
   "metadata": {},
   "outputs": [
    {
     "data": {
      "text/plain": [
       "tensor([[1, 1],\n",
       "        [1, 1]])"
      ]
     },
     "execution_count": 21,
     "metadata": {},
     "output_type": "execute_result"
    }
   ],
   "source": [
    "x_ones"
   ]
  },
  {
   "cell_type": "code",
   "execution_count": 22,
   "id": "fc3fc0a6",
   "metadata": {},
   "outputs": [
    {
     "name": "stdout",
     "output_type": "stream",
     "text": [
      "Ones Tensor: \n",
      " tensor([[1, 1],\n",
      "        [1, 1]]) \n",
      "\n"
     ]
    }
   ],
   "source": [
    "print(f\"Ones Tensor: \\n {x_ones} \\n\")"
   ]
  },
  {
   "cell_type": "code",
   "execution_count": 25,
   "id": "06b95135",
   "metadata": {},
   "outputs": [
    {
     "name": "stdout",
     "output_type": "stream",
     "text": [
      "x_ones is tensor([[1, 1],\n",
      "        [1, 1]])\n"
     ]
    }
   ],
   "source": [
    "print(\"x_ones is {}\".format(x_ones))"
   ]
  },
  {
   "cell_type": "code",
   "execution_count": 26,
   "id": "b6f6467d",
   "metadata": {},
   "outputs": [],
   "source": [
    "# Create  Tensor with random float values.\n",
    "x_random = torch.rand_like(x_data, dtype=torch.float)"
   ]
  },
  {
   "cell_type": "code",
   "execution_count": 27,
   "id": "44465efd",
   "metadata": {},
   "outputs": [
    {
     "name": "stdout",
     "output_type": "stream",
     "text": [
      "x_ones is tensor([[0.4772, 0.4028],\n",
      "        [0.6572, 0.8759]])\n"
     ]
    }
   ],
   "source": [
    "print(\"x_ones is {}\".format(x_random))"
   ]
  },
  {
   "cell_type": "markdown",
   "id": "c4fa37c2",
   "metadata": {},
   "source": [
    "#### shape is a tuple of tensor dimensions. In the functions below, it determines the dimensionality of the output tensor."
   ]
  },
  {
   "cell_type": "code",
   "execution_count": 28,
   "id": "6e881195",
   "metadata": {},
   "outputs": [],
   "source": [
    "# Define the shape of a tensor with 2 x 3 Metrics\n",
    "shape = (2,3)"
   ]
  },
  {
   "cell_type": "code",
   "execution_count": 29,
   "id": "6bc1399b",
   "metadata": {},
   "outputs": [],
   "source": [
    "rand_tensor = torch.rand(shape)"
   ]
  },
  {
   "cell_type": "code",
   "execution_count": 30,
   "id": "c0acb160",
   "metadata": {},
   "outputs": [
    {
     "data": {
      "text/plain": [
       "tensor([[0.4053, 0.4417, 0.1029],\n",
       "        [0.6626, 0.6670, 0.8267]])"
      ]
     },
     "execution_count": 30,
     "metadata": {},
     "output_type": "execute_result"
    }
   ],
   "source": [
    "rand_tensor"
   ]
  },
  {
   "cell_type": "code",
   "execution_count": 42,
   "id": "78cb0b78",
   "metadata": {},
   "outputs": [],
   "source": [
    "#Create metrics of all Ones\n",
    "ones_tensor = torch.ones(shape)"
   ]
  },
  {
   "cell_type": "code",
   "execution_count": 44,
   "id": "3d3651cb",
   "metadata": {},
   "outputs": [
    {
     "data": {
      "text/plain": [
       "tensor([[1., 1., 1.],\n",
       "        [1., 1., 1.]])"
      ]
     },
     "execution_count": 44,
     "metadata": {},
     "output_type": "execute_result"
    }
   ],
   "source": [
    "ones_tensor"
   ]
  },
  {
   "cell_type": "code",
   "execution_count": 45,
   "id": "971258f0",
   "metadata": {},
   "outputs": [],
   "source": [
    "zeros_tensor = torch.zeros(shape)"
   ]
  },
  {
   "cell_type": "code",
   "execution_count": 46,
   "id": "45e5f017",
   "metadata": {},
   "outputs": [
    {
     "name": "stdout",
     "output_type": "stream",
     "text": [
      "All Zeros Metrics is tensor([[0., 0., 0.],\n",
      "        [0., 0., 0.]])\n"
     ]
    }
   ],
   "source": [
    "print(f\"All Zeros Metrics is {zero_tensor}\")"
   ]
  },
  {
   "cell_type": "code",
   "execution_count": 47,
   "id": "15c056dc",
   "metadata": {},
   "outputs": [
    {
     "data": {
      "text/plain": [
       "tensor([[0., 0., 0.],\n",
       "        [0., 0., 0.]])"
      ]
     },
     "execution_count": 47,
     "metadata": {},
     "output_type": "execute_result"
    }
   ],
   "source": [
    "zeros_tensor"
   ]
  },
  {
   "cell_type": "markdown",
   "id": "e739e1cd",
   "metadata": {},
   "source": [
    "## 2. Tensor Attributes"
   ]
  },
  {
   "cell_type": "markdown",
   "id": "99f340e4",
   "metadata": {},
   "source": [
    "- Tensor Atrributes: Shape, dataType, device on which they are stored, element value."
   ]
  },
  {
   "cell_type": "code",
   "execution_count": 74,
   "id": "2eeb920f",
   "metadata": {},
   "outputs": [],
   "source": [
    "# Create 4-D tensor. Start from 5X6 Metrics, then there're 4 groups of 5x6 Metrics, and there are 3 groups of 4groups 5X6. \n",
    "# Total elements' number is 3X(4X(5X6))=360 \n",
    "tensor = torch.rand(3,4,5,6)"
   ]
  },
  {
   "cell_type": "code",
   "execution_count": 75,
   "id": "051ee72a",
   "metadata": {},
   "outputs": [
    {
     "data": {
      "text/plain": [
       "torch.Size([3, 4, 5, 6])"
      ]
     },
     "execution_count": 75,
     "metadata": {},
     "output_type": "execute_result"
    }
   ],
   "source": [
    "tensor.shape"
   ]
  },
  {
   "cell_type": "code",
   "execution_count": 76,
   "id": "1971af10",
   "metadata": {},
   "outputs": [
    {
     "data": {
      "text/plain": [
       "torch.float32"
      ]
     },
     "execution_count": 76,
     "metadata": {},
     "output_type": "execute_result"
    }
   ],
   "source": [
    "tensor.dtype"
   ]
  },
  {
   "cell_type": "code",
   "execution_count": 77,
   "id": "1a9d4353",
   "metadata": {},
   "outputs": [
    {
     "data": {
      "text/plain": [
       "device(type='cpu')"
      ]
     },
     "execution_count": 77,
     "metadata": {},
     "output_type": "execute_result"
    }
   ],
   "source": [
    "tensor.device"
   ]
  },
  {
   "cell_type": "code",
   "execution_count": 78,
   "id": "763bc0a3",
   "metadata": {},
   "outputs": [
    {
     "data": {
      "text/plain": [
       "tensor([[[[0.9344, 0.7783, 0.9211, 0.2751, 0.9151, 0.0477],\n",
       "          [0.3627, 0.0929, 0.4996, 0.4095, 0.7443, 0.9111],\n",
       "          [0.5880, 0.4705, 0.4276, 0.2900, 0.4831, 0.4042],\n",
       "          [0.8029, 0.5792, 0.7602, 0.6915, 0.7236, 0.1841],\n",
       "          [0.6382, 0.3773, 0.0626, 0.5095, 0.9511, 0.2269]],\n",
       "\n",
       "         [[0.3940, 0.9935, 0.8649, 0.6245, 0.5849, 0.8684],\n",
       "          [0.8181, 0.9506, 0.0580, 0.4976, 0.8336, 0.9003],\n",
       "          [0.2944, 0.0774, 0.8172, 0.6408, 0.5405, 0.7467],\n",
       "          [0.4575, 0.7610, 0.2135, 0.6428, 0.3131, 0.2081],\n",
       "          [0.5989, 0.7612, 0.7422, 0.4822, 0.4059, 0.2130]],\n",
       "\n",
       "         [[0.3099, 0.4187, 0.6600, 0.5723, 0.9685, 0.2737],\n",
       "          [0.3166, 0.7180, 0.3617, 0.8288, 0.7567, 0.5583],\n",
       "          [0.3105, 0.5723, 0.8240, 0.5794, 0.4497, 0.1457],\n",
       "          [0.9609, 0.4252, 0.0225, 0.2856, 0.4666, 0.7732],\n",
       "          [0.3437, 0.5743, 0.5124, 0.9433, 0.1531, 0.2981]],\n",
       "\n",
       "         [[0.1078, 0.7421, 0.0970, 0.6269, 0.5105, 0.4458],\n",
       "          [0.5992, 0.4828, 0.6140, 0.1810, 0.5850, 0.8463],\n",
       "          [0.6636, 0.1613, 0.7001, 0.2464, 0.4616, 0.2247],\n",
       "          [0.0781, 0.2634, 0.9477, 0.8774, 0.2611, 0.5353],\n",
       "          [0.0283, 0.2473, 0.3176, 0.2872, 0.4334, 0.6358]]],\n",
       "\n",
       "\n",
       "        [[[0.2944, 0.3453, 0.8368, 0.2443, 0.8057, 0.4989],\n",
       "          [0.0068, 0.9065, 0.7280, 0.3436, 0.2045, 0.1000],\n",
       "          [0.2495, 0.0085, 0.8080, 0.4760, 0.1086, 0.1451],\n",
       "          [0.1462, 0.7648, 0.5593, 0.9590, 0.5632, 0.3081],\n",
       "          [0.9724, 0.9333, 0.3533, 0.2144, 0.3402, 0.1764]],\n",
       "\n",
       "         [[0.3799, 0.5722, 0.4344, 0.0885, 0.5398, 0.5202],\n",
       "          [0.6529, 0.9406, 0.9452, 0.9700, 0.9775, 0.9371],\n",
       "          [0.7742, 0.8181, 0.1600, 0.2752, 0.3044, 0.0829],\n",
       "          [0.5742, 0.9347, 0.5512, 0.2449, 0.8685, 0.6846],\n",
       "          [0.1657, 0.0663, 0.2305, 0.5107, 0.3179, 0.5294]],\n",
       "\n",
       "         [[0.7941, 0.2863, 0.7163, 0.9309, 0.6817, 0.9646],\n",
       "          [0.3784, 0.9871, 0.2634, 0.8308, 0.6971, 0.4174],\n",
       "          [0.5445, 0.7139, 0.9483, 0.6592, 0.3352, 0.1606],\n",
       "          [0.7850, 0.8607, 0.7677, 0.6271, 0.2925, 0.9749],\n",
       "          [0.3160, 0.3592, 0.8084, 0.9909, 0.4610, 0.7228]],\n",
       "\n",
       "         [[0.3865, 0.9814, 0.3897, 0.4470, 0.5923, 0.4083],\n",
       "          [0.0383, 0.3747, 0.0987, 0.8626, 0.0427, 0.4291],\n",
       "          [0.7385, 0.8365, 0.9593, 0.6637, 0.2303, 0.1452],\n",
       "          [0.7586, 0.2852, 0.2505, 0.6742, 0.7947, 0.3631],\n",
       "          [0.6388, 0.3474, 0.4959, 0.1133, 0.2622, 0.3841]]],\n",
       "\n",
       "\n",
       "        [[[0.5721, 0.5042, 0.4521, 0.1538, 0.9990, 0.6905],\n",
       "          [0.5602, 0.3538, 0.0278, 0.6766, 0.4144, 0.1459],\n",
       "          [0.4929, 0.8539, 0.5832, 0.9461, 0.1826, 0.9598],\n",
       "          [0.8369, 0.7398, 0.8916, 0.7010, 0.3618, 0.2468],\n",
       "          [0.6752, 0.2367, 0.0639, 0.8827, 0.2920, 0.1369]],\n",
       "\n",
       "         [[0.4722, 0.1940, 0.5794, 0.9501, 0.2348, 0.0297],\n",
       "          [0.5838, 0.2447, 0.5161, 0.7106, 0.5160, 0.0366],\n",
       "          [0.2330, 0.4846, 0.2431, 0.7264, 0.2201, 0.4925],\n",
       "          [0.3606, 0.3516, 0.4487, 0.2684, 0.4238, 0.2621],\n",
       "          [0.0704, 0.5449, 0.8082, 0.9394, 0.5227, 0.0530]],\n",
       "\n",
       "         [[0.1248, 0.0042, 0.0782, 0.1625, 0.6633, 0.7011],\n",
       "          [0.3737, 0.0653, 0.2450, 0.3802, 0.8453, 0.1117],\n",
       "          [0.1514, 0.8401, 0.3984, 0.3798, 0.0999, 0.5502],\n",
       "          [0.6995, 0.4560, 0.9828, 0.0684, 0.8990, 0.9865],\n",
       "          [0.4037, 0.3874, 0.7506, 0.3781, 0.1673, 0.7552]],\n",
       "\n",
       "         [[0.7843, 0.5935, 0.3327, 0.8466, 0.0558, 0.0271],\n",
       "          [0.3038, 0.8991, 0.4134, 0.8707, 0.2832, 0.3126],\n",
       "          [0.7500, 0.1147, 0.6592, 0.8058, 0.0627, 0.7108],\n",
       "          [0.4640, 0.6177, 0.2473, 0.0307, 0.2048, 0.1998],\n",
       "          [0.5992, 0.8676, 0.3361, 0.4363, 0.8962, 0.2635]]]])"
      ]
     },
     "execution_count": 78,
     "metadata": {},
     "output_type": "execute_result"
    }
   ],
   "source": [
    "tensor"
   ]
  },
  {
   "cell_type": "markdown",
   "id": "d4427e58",
   "metadata": {},
   "source": [
    "## 3. Tensor Operations"
   ]
  },
  {
   "cell_type": "markdown",
   "id": "32a6ad3c",
   "metadata": {},
   "source": [
    "- Over 100 tensor operations\n",
    "- Transposing, indexing, slicing, mathematical operations, linear algebra, random sampling.\n",
    "- [Tensor Operations](https://pytorch.org/docs/stable/torch.html)"
   ]
  },
  {
   "cell_type": "code",
   "execution_count": null,
   "id": "57882c34",
   "metadata": {},
   "outputs": [],
   "source": []
  }
 ],
 "metadata": {
  "kernelspec": {
   "display_name": "Python 3",
   "language": "python",
   "name": "python3"
  },
  "language_info": {
   "codemirror_mode": {
    "name": "ipython",
    "version": 3
   },
   "file_extension": ".py",
   "mimetype": "text/x-python",
   "name": "python",
   "nbconvert_exporter": "python",
   "pygments_lexer": "ipython3",
   "version": "3.8.3"
  }
 },
 "nbformat": 4,
 "nbformat_minor": 5
}
